{
 "cells": [
  {
   "cell_type": "code",
   "execution_count": 6,
   "metadata": {},
   "outputs": [],
   "source": [
    "import mysql.connector\n",
    "\n",
    "conexion=mysql.connector.connect(host='database-2.cqvkjdbtsdxm.us-east-2.rds.amazonaws.com',\n",
    "                                              database='prueba',\n",
    "                                              user='gualas',\n",
    "                                              password='Chrono69+')"
   ]
  },
  {
   "cell_type": "code",
   "execution_count": 7,
   "metadata": {},
   "outputs": [
    {
     "data": {
      "text/plain": [
       "[('8N3327',\n",
       "  'COSTEX ',\n",
       "  'CATERPILLAR',\n",
       "  'BALANCIN DE ADMISION ',\n",
       "  'Pieza ',\n",
       "  '25',\n",
       "  '15')]"
      ]
     },
     "execution_count": 7,
     "metadata": {},
     "output_type": "execute_result"
    }
   ],
   "source": [
    "gualas='gualas'\n",
    "password='chrono69'\n",
    "cur=conexion.cursor()\n",
    "sql='''select it.IdItem, mar.Nombre as Marca, it.Familia, it.Descripcion, it.Unidad_Med,pre.Precio_Venta,pre.Precio_Minimo \n",
    "FROM items it \n",
    "JOIN marca mar ON(it.IdMarca=mar.IdMarca)\n",
    "JOIN precio pre ON(it.IdItem=pre.IdItem) WHERE it.IdItem like '%{}%' or it.Descripcion like '%{}%';'''.format('8N3327','8N3327')\n",
    "cur.execute(sql)\n",
    "usersx=cur.fetchall()\n",
    "cur.close()\n",
    "usersx"
   ]
  }
 ],
 "metadata": {
  "kernelspec": {
   "display_name": "scrapingEnv",
   "language": "python",
   "name": "scrapingenv"
  },
  "language_info": {
   "codemirror_mode": {
    "name": "ipython",
    "version": 3
   },
   "file_extension": ".py",
   "mimetype": "text/x-python",
   "name": "python",
   "nbconvert_exporter": "python",
   "pygments_lexer": "ipython3",
   "version": "3.9.12"
  },
  "orig_nbformat": 4
 },
 "nbformat": 4,
 "nbformat_minor": 2
}
